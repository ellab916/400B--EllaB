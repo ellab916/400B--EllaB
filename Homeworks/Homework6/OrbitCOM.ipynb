{
 "cells": [
  {
   "cell_type": "code",
   "execution_count": null,
   "metadata": {},
   "outputs": [],
   "source": [
    "# Homework 6 Template\n",
    "# G. Besla & R. Li"
   ]
  },
  {
   "cell_type": "code",
   "execution_count": 7,
   "metadata": {},
   "outputs": [
    {
     "name": "stdout",
     "output_type": "stream",
     "text": [
      "[-2.07  2.95 -1.45]\n",
      "[ 0.94  6.32 -1.35] km / s\n"
     ]
    }
   ],
   "source": [
    "# import modules\n",
    "import numpy as np\n",
    "import astropy.units as u\n",
    "from astropy.constants import G\n",
    "\n",
    "# import plotting modules\n",
    "import matplotlib.pyplot as plt\n",
    "import matplotlib\n",
    "%matplotlib inline\n",
    "\n",
    "# my modules\n",
    "from ReadFile import Read\n",
    "# Step 1: modify CenterOfMass so that COM_P now takes a parameter specifying \n",
    "# by how much to decrease RMAX instead of a factor of 2\n",
    "from CenterofMass import CenterOfMass\n",
    "\n"
   ]
  },
  {
   "cell_type": "code",
   "execution_count": 13,
   "metadata": {},
   "outputs": [],
   "source": [
    "def OrbitCOM(galaxy, start, end, n=5): \n",
    "    \"\"\"\n",
    "    A function that loops over all the desired snapshots to compute the COM pos and vel as a function of time.\n",
    "    \n",
    "    inputs:\n",
    "    galaxy : str\n",
    "        The name of the galaxy (e.g., \"MW\", \"M31\", \"M33\").\n",
    "    start : int\n",
    "        The starting snapshot number.\n",
    "    end : int\n",
    "        The ending snapshot number.\n",
    "    n : int, optional\n",
    "        The interval at which snapshots are processed (default is 5).\n",
    "    \n",
    "    output:\n",
    "    A text file with the time, x, y, z, vx, vy, and vz of the COM for the galaxy.\n",
    "    \"\"\"\n",
    "    # Compose the filename for output\n",
    "    fileout = f\"Orbit_{galaxy}.txt\"\n",
    "\n",
    "    # Set tolerance and volDec for calculating COM_P in CenterOfMass\n",
    "    delta = 0.1 \n",
    "    volDec = 2 if galaxy != \"M33\" else 4  # Volume reduction factor for M33\n",
    "    \n",
    "    # Generate snapshot IDs to be processed\n",
    "    snap_ids = np.arange(start, end + 1, n)\n",
    "    if len(snap_ids) == 0:\n",
    "        print(\"Error: No snapshots selected.\")\n",
    "        return\n",
    "    \n",
    "    # Initialize array to store orbital info: t, x, y, z, vx, vy, vz of COM\n",
    "    orbit = np.zeros((len(snap_ids), 7))\n",
    "    \n",
    "    # Loop over selected snapshots\n",
    "    for i, snap_id in enumerate(snap_ids):\n",
    "        snap_str = f\"{snap_id:03d}\"  # Format snapshot number with leading zeros\n",
    "        filename = f\"/home/astr400b/VLowRes/{galaxy}_{snap_str}.txt\"\n",
    "        \n",
    "        # Create a CenterOfMass object using disk particles (type 2)\n",
    "        COM = CenterOfMass(filename, 2)\n",
    "        \n",
    "        # Compute the COM position and velocity\n",
    "        COM_p = COM.COM_P(delta)\n",
    "        COM_v = COM.COM_V(COM_p[0], COM_p[1], COM_p[2])\n",
    "        \n",
    "        # Store the results in the array\n",
    "        orbit[i, 0] = COM.time / 1000  # Convert time to Gyr\n",
    "        orbit[i, 1:4] = COM_p  # Store x, y, z positions\n",
    "        orbit[i, 4:] = COM_v.value  # Store vx, vy, vz velocities\n",
    "        \n",
    "        # Print snap_id progress message\n",
    "        print(f\"Processed snapshot {snap_id}\")\n",
    "    \n",
    "    # Save the computed orbit data to a text file\n",
    "    np.savetxt(fileout, orbit, fmt = \"%11.3f\"*7, comments='#',\n",
    "            header=\"{:>10s}{:>11s}{:>11s}{:>11s}{:>11s}{:>11s}{:>11s}\"\\\n",
    "                    .format('t', 'x', 'y', 'z', 'vx', 'vy', 'vz'))\n",
    "    print(f\"Orbit saved to {fileout}\")"
   ]
  },
  {
   "cell_type": "code",
   "execution_count": 12,
   "metadata": {},
   "outputs": [
    {
     "ename": "FileNotFoundError",
     "evalue": "Orbit_MW.txt not found.",
     "output_type": "error",
     "traceback": [
      "\u001b[0;31m---------------------------------------------------------------------------\u001b[0m",
      "\u001b[0;31mFileNotFoundError\u001b[0m                         Traceback (most recent call last)",
      "Cell \u001b[0;32mIn[12], line 6\u001b[0m\n\u001b[1;32m      1\u001b[0m \u001b[38;5;66;03m# Recover the orbits and generate the COM files for each galaxy\u001b[39;00m\n\u001b[1;32m      2\u001b[0m \u001b[38;5;66;03m# read in 800 snapshots in intervals of n=5\u001b[39;00m\n\u001b[1;32m      3\u001b[0m \u001b[38;5;66;03m# Note: This might take a little while - test your code with a smaller number of snapshots first! \u001b[39;00m\n\u001b[1;32m      4\u001b[0m \n\u001b[1;32m      5\u001b[0m \u001b[38;5;66;03m# Load the computed center of mass data\u001b[39;00m\n\u001b[0;32m----> 6\u001b[0m MW_data \u001b[38;5;241m=\u001b[39m np\u001b[38;5;241m.\u001b[39mloadtxt(\u001b[38;5;124m\"\u001b[39m\u001b[38;5;124mOrbit_MW.txt\u001b[39m\u001b[38;5;124m\"\u001b[39m)    \u001b[38;5;66;03m# MW\u001b[39;00m\n\u001b[1;32m      7\u001b[0m M31_data \u001b[38;5;241m=\u001b[39m np\u001b[38;5;241m.\u001b[39mloadtxt(\u001b[38;5;124m\"\u001b[39m\u001b[38;5;124mOrbit_M31.txt\u001b[39m\u001b[38;5;124m\"\u001b[39m)  \u001b[38;5;66;03m# M31\u001b[39;00m\n\u001b[1;32m      8\u001b[0m M33_data \u001b[38;5;241m=\u001b[39m np\u001b[38;5;241m.\u001b[39mloadtxt(\u001b[38;5;124m\"\u001b[39m\u001b[38;5;124mOrbit_M33.txt\u001b[39m\u001b[38;5;124m\"\u001b[39m)  \u001b[38;5;66;03m# M33\u001b[39;00m\n",
      "File \u001b[0;32m/opt/anaconda3/lib/python3.11/site-packages/numpy/lib/npyio.py:1373\u001b[0m, in \u001b[0;36mloadtxt\u001b[0;34m(fname, dtype, comments, delimiter, converters, skiprows, usecols, unpack, ndmin, encoding, max_rows, quotechar, like)\u001b[0m\n\u001b[1;32m   1370\u001b[0m \u001b[38;5;28;01mif\u001b[39;00m \u001b[38;5;28misinstance\u001b[39m(delimiter, \u001b[38;5;28mbytes\u001b[39m):\n\u001b[1;32m   1371\u001b[0m     delimiter \u001b[38;5;241m=\u001b[39m delimiter\u001b[38;5;241m.\u001b[39mdecode(\u001b[38;5;124m'\u001b[39m\u001b[38;5;124mlatin1\u001b[39m\u001b[38;5;124m'\u001b[39m)\n\u001b[0;32m-> 1373\u001b[0m arr \u001b[38;5;241m=\u001b[39m _read(fname, dtype\u001b[38;5;241m=\u001b[39mdtype, comment\u001b[38;5;241m=\u001b[39mcomment, delimiter\u001b[38;5;241m=\u001b[39mdelimiter,\n\u001b[1;32m   1374\u001b[0m             converters\u001b[38;5;241m=\u001b[39mconverters, skiplines\u001b[38;5;241m=\u001b[39mskiprows, usecols\u001b[38;5;241m=\u001b[39musecols,\n\u001b[1;32m   1375\u001b[0m             unpack\u001b[38;5;241m=\u001b[39munpack, ndmin\u001b[38;5;241m=\u001b[39mndmin, encoding\u001b[38;5;241m=\u001b[39mencoding,\n\u001b[1;32m   1376\u001b[0m             max_rows\u001b[38;5;241m=\u001b[39mmax_rows, quote\u001b[38;5;241m=\u001b[39mquotechar)\n\u001b[1;32m   1378\u001b[0m \u001b[38;5;28;01mreturn\u001b[39;00m arr\n",
      "File \u001b[0;32m/opt/anaconda3/lib/python3.11/site-packages/numpy/lib/npyio.py:992\u001b[0m, in \u001b[0;36m_read\u001b[0;34m(fname, delimiter, comment, quote, imaginary_unit, usecols, skiplines, max_rows, converters, ndmin, unpack, dtype, encoding)\u001b[0m\n\u001b[1;32m    990\u001b[0m     fname \u001b[38;5;241m=\u001b[39m os\u001b[38;5;241m.\u001b[39mfspath(fname)\n\u001b[1;32m    991\u001b[0m \u001b[38;5;28;01mif\u001b[39;00m \u001b[38;5;28misinstance\u001b[39m(fname, \u001b[38;5;28mstr\u001b[39m):\n\u001b[0;32m--> 992\u001b[0m     fh \u001b[38;5;241m=\u001b[39m np\u001b[38;5;241m.\u001b[39mlib\u001b[38;5;241m.\u001b[39m_datasource\u001b[38;5;241m.\u001b[39mopen(fname, \u001b[38;5;124m'\u001b[39m\u001b[38;5;124mrt\u001b[39m\u001b[38;5;124m'\u001b[39m, encoding\u001b[38;5;241m=\u001b[39mencoding)\n\u001b[1;32m    993\u001b[0m     \u001b[38;5;28;01mif\u001b[39;00m encoding \u001b[38;5;129;01mis\u001b[39;00m \u001b[38;5;28;01mNone\u001b[39;00m:\n\u001b[1;32m    994\u001b[0m         encoding \u001b[38;5;241m=\u001b[39m \u001b[38;5;28mgetattr\u001b[39m(fh, \u001b[38;5;124m'\u001b[39m\u001b[38;5;124mencoding\u001b[39m\u001b[38;5;124m'\u001b[39m, \u001b[38;5;124m'\u001b[39m\u001b[38;5;124mlatin1\u001b[39m\u001b[38;5;124m'\u001b[39m)\n",
      "File \u001b[0;32m/opt/anaconda3/lib/python3.11/site-packages/numpy/lib/_datasource.py:193\u001b[0m, in \u001b[0;36mopen\u001b[0;34m(path, mode, destpath, encoding, newline)\u001b[0m\n\u001b[1;32m    156\u001b[0m \u001b[38;5;250m\u001b[39m\u001b[38;5;124;03m\"\"\"\u001b[39;00m\n\u001b[1;32m    157\u001b[0m \u001b[38;5;124;03mOpen `path` with `mode` and return the file object.\u001b[39;00m\n\u001b[1;32m    158\u001b[0m \n\u001b[0;32m   (...)\u001b[0m\n\u001b[1;32m    189\u001b[0m \n\u001b[1;32m    190\u001b[0m \u001b[38;5;124;03m\"\"\"\u001b[39;00m\n\u001b[1;32m    192\u001b[0m ds \u001b[38;5;241m=\u001b[39m DataSource(destpath)\n\u001b[0;32m--> 193\u001b[0m \u001b[38;5;28;01mreturn\u001b[39;00m ds\u001b[38;5;241m.\u001b[39mopen(path, mode, encoding\u001b[38;5;241m=\u001b[39mencoding, newline\u001b[38;5;241m=\u001b[39mnewline)\n",
      "File \u001b[0;32m/opt/anaconda3/lib/python3.11/site-packages/numpy/lib/_datasource.py:533\u001b[0m, in \u001b[0;36mDataSource.open\u001b[0;34m(self, path, mode, encoding, newline)\u001b[0m\n\u001b[1;32m    530\u001b[0m     \u001b[38;5;28;01mreturn\u001b[39;00m _file_openers[ext](found, mode\u001b[38;5;241m=\u001b[39mmode,\n\u001b[1;32m    531\u001b[0m                               encoding\u001b[38;5;241m=\u001b[39mencoding, newline\u001b[38;5;241m=\u001b[39mnewline)\n\u001b[1;32m    532\u001b[0m \u001b[38;5;28;01melse\u001b[39;00m:\n\u001b[0;32m--> 533\u001b[0m     \u001b[38;5;28;01mraise\u001b[39;00m \u001b[38;5;167;01mFileNotFoundError\u001b[39;00m(\u001b[38;5;124mf\u001b[39m\u001b[38;5;124m\"\u001b[39m\u001b[38;5;132;01m{\u001b[39;00mpath\u001b[38;5;132;01m}\u001b[39;00m\u001b[38;5;124m not found.\u001b[39m\u001b[38;5;124m\"\u001b[39m)\n",
      "\u001b[0;31mFileNotFoundError\u001b[0m: Orbit_MW.txt not found."
     ]
    }
   ],
   "source": [
    "# Recover the orbits and generate the COM files for each galaxy\n",
    "# read in 800 snapshots in intervals of n=5\n",
    "# Note: This might take a little while - test your code with a smaller number of snapshots first! \n",
    "\n",
    "# Load the computed center of mass data\n",
    "MW_data = np.loadtxt(\"Orbit_MW.txt\")    # MW\n",
    "M31_data = np.loadtxt(\"Orbit_M31.txt\")  # M31\n",
    "M33_data = np.loadtxt(\"Orbit_M33.txt\")  # M33\n",
    "\n",
    "# Extract columns\n",
    "time = MW_data[:, 0]  # Time in Gyr\n",
    "MW_pos = MW_data[:, 1:4]  # x, y, z position\n",
    "M31_pos = M31_data[:, 1:4]\n",
    "M33_pos = M33_data[:, 1:4]\n",
    "MW_vel = MW_data[:, 4:]   # vx, vy, vz velocity\n",
    "M31_vel = M31_data[:, 4:]\n",
    "M33_vel = M33_data[:, 4:]\n"
   ]
  },
  {
   "cell_type": "code",
   "execution_count": 4,
   "metadata": {},
   "outputs": [
    {
     "ename": "NameError",
     "evalue": "name 'CenterOfMass' is not defined",
     "output_type": "error",
     "traceback": [
      "\u001b[0;31m---------------------------------------------------------------------------\u001b[0m",
      "\u001b[0;31mNameError\u001b[0m                                 Traceback (most recent call last)",
      "Cell \u001b[0;32mIn[4], line 4\u001b[0m\n\u001b[1;32m      1\u001b[0m \u001b[38;5;66;03m# Read in the data files for the orbits of each galaxy that you just created\u001b[39;00m\n\u001b[1;32m      2\u001b[0m \u001b[38;5;66;03m# headers:  t, x, y, z, vx, vy, vz\u001b[39;00m\n\u001b[1;32m      3\u001b[0m \u001b[38;5;66;03m# using np.genfromtxt\u001b[39;00m\n\u001b[0;32m----> 4\u001b[0m OrbitCOM(\u001b[38;5;124m\"\u001b[39m\u001b[38;5;124mMW\u001b[39m\u001b[38;5;124m\"\u001b[39m, \u001b[38;5;241m0\u001b[39m, \u001b[38;5;241m800\u001b[39m, \u001b[38;5;241m5\u001b[39m)\n\u001b[1;32m      5\u001b[0m OrbitCOM(\u001b[38;5;124m\"\u001b[39m\u001b[38;5;124mM31\u001b[39m\u001b[38;5;124m\"\u001b[39m, \u001b[38;5;241m0\u001b[39m, \u001b[38;5;241m800\u001b[39m, \u001b[38;5;241m5\u001b[39m)\n\u001b[1;32m      6\u001b[0m OrbitCOM(\u001b[38;5;124m\"\u001b[39m\u001b[38;5;124mM33\u001b[39m\u001b[38;5;124m\"\u001b[39m, \u001b[38;5;241m0\u001b[39m, \u001b[38;5;241m800\u001b[39m, \u001b[38;5;241m5\u001b[39m)\n",
      "Cell \u001b[0;32mIn[3], line 40\u001b[0m, in \u001b[0;36mOrbitCOM\u001b[0;34m(galaxy, start, end, n)\u001b[0m\n\u001b[1;32m     37\u001b[0m filename \u001b[38;5;241m=\u001b[39m \u001b[38;5;124mf\u001b[39m\u001b[38;5;124m\"\u001b[39m\u001b[38;5;124m/home/astr400b/VLowRes/\u001b[39m\u001b[38;5;132;01m{\u001b[39;00mgalaxy\u001b[38;5;132;01m}\u001b[39;00m\u001b[38;5;124m_\u001b[39m\u001b[38;5;132;01m{\u001b[39;00msnap_str\u001b[38;5;132;01m}\u001b[39;00m\u001b[38;5;124m.txt\u001b[39m\u001b[38;5;124m\"\u001b[39m\n\u001b[1;32m     39\u001b[0m \u001b[38;5;66;03m# Create a CenterOfMass object using disk particles (type 2)\u001b[39;00m\n\u001b[0;32m---> 40\u001b[0m COM \u001b[38;5;241m=\u001b[39m CenterOfMass(filename, \u001b[38;5;241m2\u001b[39m)\n\u001b[1;32m     42\u001b[0m \u001b[38;5;66;03m# Compute the COM position and velocity\u001b[39;00m\n\u001b[1;32m     43\u001b[0m COM_p \u001b[38;5;241m=\u001b[39m COM\u001b[38;5;241m.\u001b[39mCOM_P(delta)\n",
      "\u001b[0;31mNameError\u001b[0m: name 'CenterOfMass' is not defined"
     ]
    }
   ],
   "source": [
    "# Read in the data files for the orbits of each galaxy that you just created\n",
    "# headers:  t, x, y, z, vx, vy, vz\n",
    "# using np.genfromtxt\n",
    "OrbitCOM(\"MW\", 0, 800, 5)\n",
    "OrbitCOM(\"M31\", 0, 800, 5)\n",
    "OrbitCOM(\"M33\", 0, 800, 5)"
   ]
  },
  {
   "cell_type": "code",
   "execution_count": null,
   "metadata": {},
   "outputs": [],
   "source": [
    "# You can use this function to return both the relative position and relative velocity for two \n",
    "# galaxies over the entire orbit  \n",
    "\n",
    "# Compute the separation magnitude\n",
    "sep_MW_M31 = np.linalg.norm(MW_pos - M31_pos, axis=1)  # MW - M31\n",
    "sep_M33_M31 = np.linalg.norm(M33_pos - M31_pos, axis=1)  # M33 - M31\n"
   ]
  },
  {
   "cell_type": "code",
   "execution_count": null,
   "metadata": {},
   "outputs": [],
   "source": [
    "# Determine the magnitude of the relative position and velocities \n",
    "\n",
    "# Compute the velocity magnitude\n",
    "vel_MW_M31 = np.linalg.norm(MW_vel - M31_vel, axis=1)  # MW - M31\n",
    "vel_M33_M31 = np.linalg.norm(M33_vel - M31_vel, axis=1)  # M33 - M31\n",
    "\n"
   ]
  },
  {
   "cell_type": "code",
   "execution_count": null,
   "metadata": {},
   "outputs": [],
   "source": [
    "# Plot the Orbit of the galaxies \n",
    "#################################\n",
    "\n",
    "# Set figure size\n",
    "plt.figure(figsize=(12, 5))\n",
    "\n",
    "# Plot Separation vs Time\n",
    "plt.subplot(1, 2, 1)  # 1 row, 2 columns, 1st plot\n",
    "plt.plot(time, sep_MW_M31, label=\"MW - M31\", color=\"blue\")\n",
    "plt.plot(time, sep_M33_M31, label=\"M33 - M31\", color=\"red\")\n",
    "plt.xlabel(\"Time (Gyr)\")\n",
    "plt.ylabel(\"Separation (kpc)\")\n",
    "plt.title(\"Separation vs Time\")\n",
    "plt.legend()"
   ]
  },
  {
   "cell_type": "code",
   "execution_count": null,
   "metadata": {},
   "outputs": [],
   "source": [
    "# Plot the orbital velocities of the galaxies \n",
    "#################################\n",
    "\n",
    "# Plot Velocity vs Time\n",
    "plt.subplot(1, 2, 2)  # 1 row, 2 columns, 2nd plot\n",
    "plt.plot(time, vel_MW_M31, label=\"MW - M31\", color=\"blue\")\n",
    "plt.plot(time, vel_M33_M31, label=\"M33 - M31\", color=\"red\")\n",
    "plt.xlabel(\"Time (Gyr)\")\n",
    "plt.ylabel(\"Velocity (km/s)\")\n",
    "plt.title(\"Velocity vs Time\")\n",
    "plt.legend()"
   ]
  },
  {
   "cell_type": "code",
   "execution_count": null,
   "metadata": {},
   "outputs": [],
   "source": [
    "# Show the plots\n",
    "plt.tight_layout()\n",
    "plt.show()"
   ]
  }
 ],
 "metadata": {
  "kernelspec": {
   "display_name": "Python 3 (ipykernel)",
   "language": "python",
   "name": "python3"
  },
  "language_info": {
   "codemirror_mode": {
    "name": "ipython",
    "version": 3
   },
   "file_extension": ".py",
   "mimetype": "text/x-python",
   "name": "python",
   "nbconvert_exporter": "python",
   "pygments_lexer": "ipython3",
   "version": "3.11.7"
  }
 },
 "nbformat": 4,
 "nbformat_minor": 4
}
