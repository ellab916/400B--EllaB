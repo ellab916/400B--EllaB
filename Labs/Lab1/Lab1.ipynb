{
 "cells": [
  {
   "cell_type": "markdown",
   "metadata": {},
   "source": [
    "# In Class Lab 1\n",
    "\n",
    "### Due by midnight, thursday in your github repository 'Labs/Lab1' folder\n"
   ]
  },
  {
   "cell_type": "code",
   "execution_count": 3,
   "metadata": {},
   "outputs": [],
   "source": [
    "# Import Modules \n",
    "import numpy as np # import numpy\n",
    "import astropy.units as u # import astropy units\n",
    "from astropy import constants as const # import astropy constants"
   ]
  },
  {
   "cell_type": "markdown",
   "metadata": {},
   "source": [
    "### Astropy Units:  https://docs.astropy.org/en/stable/units/index.html"
   ]
  },
  {
   "cell_type": "markdown",
   "metadata": {},
   "source": [
    "\n",
    "## Part A:  The Local Standard of Rest\n",
    "Proper motion of Sgr A* from Reid & Brunthaler 2004\n",
    "$\\mu = 6.379$ mas/yr \n",
    "\n",
    "Peculiar motion of the sun, $v_\\odot$ = 12.24 km/s  (Schonrich 2010)\n",
    "\n",
    "\n",
    "$v_{tan} = 4.74 \\frac{\\mu}{\\rm mas/yr} \\frac{R_o}{\\rm kpc} = V_{LSR} + v_\\odot$\n",
    "\n",
    "\n",
    "### a)\n",
    "\n",
    "Create a function called VLSR to compute the local standard of res (V$_{LSR}$).\n",
    "\n",
    "The function should take as input: the solar radius (R$_o$), the proper motion (mu)\n",
    "and the peculiar motion of the sun in the $v_\\odot$ direction.\n",
    "\n",
    "Compute V$_{LSR}$ using three different values R$_o$: \n",
    "1. Water Maser Distance for the Sun :  R$_o$ = 8.34 kpc   (Reid 2014 ApJ 783) \n",
    "2. GRAVITY Collaboration Distance for the Sun:  R$_o$ = 8.178 kpc   (Abuter+2019 A&A 625)\n",
    "3. Value for Distance to Sun listed in Sparke & Gallagher : R$_o$ = 7.9 kpc \n"
   ]
  },
  {
   "cell_type": "markdown",
   "metadata": {},
   "source": [
    "### b)\n",
    "\n",
    "compute the orbital period of the sun in Gyr using R$_o$ from the GRAVITY Collaboration (assume circular orbit)\n",
    "\n",
    "Note that 1 km/s $\\sim$ 1kpc/Gyr"
   ]
  },
  {
   "cell_type": "code",
   "execution_count": 4,
   "metadata": {},
   "outputs": [],
   "source": [
    "# 4.74 * mu * Ro = VLSR + vsun\n",
    "def VLSR(Ro, mu=6.379, vsun=12.24*u.km/u.s):\n",
    "    \"\"\"\n",
    "    This function will compute the velocity at the\n",
    "    local standard of rest. \n",
    "    \n",
    "    (Reid and Brunthaler 2004)\n",
    "    VLSR = 4.74 * mu * Ro - vsun\n",
    "\n",
    "    Inputs: \n",
    "     Ro (astropy units kpc)- distance from Sun\n",
    "        to the galactic center\n",
    "    mu- proper motion of Sag A* (mas/yr) \n",
    "        from Reid and Brunthaler 2004\n",
    "    vsun (astropy units km/s)- peculiar motion\n",
    "        of the Sun in v-direction\n",
    "        from Schonrich+2010\n",
    "\n",
    "    Outputs: \n",
    "     VLSR (astropy units km/s)- the local standard\n",
    "      of rest \n",
    "    \"\"\"\n",
    "    VLSR = 4.74*mu*(Ro/u.kpc)*u.km/u.s - vsun\n",
    "    return VLSR"
   ]
  },
  {
   "cell_type": "code",
   "execution_count": 6,
   "metadata": {},
   "outputs": [],
   "source": [
    "# Different values of the distance to the galactic center \n",
    "Ro_Reid = 8.34 * u.kpc     # Reid + 2014\n",
    "Ro_Abuter = 8.178 * u.kpc  # Abuter + 2019\n",
    "Ro_Sparke = 7.9 * u.kpc    # Sparke and Gallagher text "
   ]
  },
  {
   "cell_type": "code",
   "execution_count": 7,
   "metadata": {},
   "outputs": [
    {
     "name": "stdout",
     "output_type": "stream",
     "text": [
      "239.9320764 km / s\n"
     ]
    }
   ],
   "source": [
    "# Compute VLSR using Reid 2014 \n",
    "\n",
    "VLSR_Reid = VLSR(Ro_Reid)\n",
    "print(VLSR_Reid)"
   ]
  },
  {
   "cell_type": "code",
   "execution_count": 9,
   "metadata": {},
   "outputs": [
    {
     "name": "stdout",
     "output_type": "stream",
     "text": [
      "235.03376988000002 km / s\n",
      "235.0 km / s\n"
     ]
    }
   ],
   "source": [
    "# Compute VLSR using Abuter 2019 \n",
    "\n",
    "VLSR_Abuter = VLSR(Ro_Abuter)\n",
    "print(VLSR_Abuter)\n",
    "print(np.round(VLSR_Abuter))"
   ]
  },
  {
   "cell_type": "code",
   "execution_count": 10,
   "metadata": {},
   "outputs": [
    {
     "name": "stdout",
     "output_type": "stream",
     "text": [
      "226.628034 km / s\n"
     ]
    }
   ],
   "source": [
    "# Compute VLSR using Sparke + Gallagher\n",
    "\n",
    "VLSR_Sparke = VLSR(Ro_Sparke)\n",
    "print(VLSR_Sparke)"
   ]
  },
  {
   "cell_type": "code",
   "execution_count": 12,
   "metadata": {},
   "outputs": [],
   "source": [
    "# orbital period = 2piR/V\n",
    "\n",
    "def TorbSun(Ro, Vc): \n",
    "    \"\"\"\n",
    "    A function that computes the orbital period of the Sun. \n",
    "    T = 2*pi*R/V\n",
    "\n",
    "    Inputs: \n",
    "    Ro (float)- the distance to the galactic center from the sun\n",
    "    Vc (float)- velocity of the sun in v-direction\n",
    "\n",
    "    Outputs: \n",
    "    T (astropy)- orbital period (Gyr)\n",
    "    \"\"\"\n",
    "    VkpcGyr = Vc.to(u.kpc/u.Gyr)  # converts V to kpc/Gyr\n",
    "    T = (np.pi * 2 * Ro)/VkpcGyr  # calculates orbital period\n",
    "    return T    "
   ]
  },
  {
   "cell_type": "code",
   "execution_count": 13,
   "metadata": {},
   "outputs": [],
   "source": [
    "VsunPec = 12.2*u.km/u.s   # peculiar motion"
   ]
  },
  {
   "cell_type": "code",
   "execution_count": 14,
   "metadata": {},
   "outputs": [],
   "source": [
    "Vsun = VLSR_Abuter + VsunPec   # total motion of sun in v-direction"
   ]
  },
  {
   "cell_type": "code",
   "execution_count": 16,
   "metadata": {},
   "outputs": [
    {
     "name": "stdout",
     "output_type": "stream",
     "text": [
      "0.203 Gyr\n"
     ]
    }
   ],
   "source": [
    "# Orbital Period of the Sun \n",
    "T_Abuter = TorbSun(Ro_Abuter, Vsun)\n",
    "print(np.round(T_Abuter, 3))"
   ]
  },
  {
   "cell_type": "markdown",
   "metadata": {},
   "source": [
    "### c)\n",
    "\n",
    "Compute the number of rotations about the GC over the age of the universe (13.8 Gyr)"
   ]
  },
  {
   "cell_type": "code",
   "execution_count": 18,
   "metadata": {},
   "outputs": [
    {
     "name": "stdout",
     "output_type": "stream",
     "text": [
      "67.907\n"
     ]
    }
   ],
   "source": [
    "Age_Universe = 13.8 * u.Gyr\n",
    "print(Age_Universe/T_Abuter)"
   ]
  },
  {
   "cell_type": "markdown",
   "metadata": {},
   "source": [
    "## Part B  Dark Matter Density Profiles\n",
    "\n",
    "### a)\n",
    "Try out Fitting Rotation Curves \n",
    "[here](http://wittman.physics.ucdavis.edu/Animations/RotationCurve/GalacticRotation.html)\n",
    "\n",
    "\n",
    "### b)\n",
    "\n",
    "\n",
    "In the Isothermal Sphere model, what is the mass enclosed within the solar radius (R$_o$) in units of M$_\\odot$? \n",
    "\n",
    "Recall that for the Isothermal sphere :\n",
    "$\\rho(r) = \\frac{V_{LSR}^2}{4\\pi G r^2}$\n",
    "\n",
    "Where $G$ = 4.4985e-6 kpc$^3$/Gyr$^2$/M$_\\odot$, r is in kpc and $V_{LSR}$ is in km/s\n",
    "\n",
    "What about at 260 kpc (in units of  M$_\\odot$) ? "
   ]
  },
  {
   "cell_type": "code",
   "execution_count": 19,
   "metadata": {},
   "outputs": [
    {
     "name": "stdout",
     "output_type": "stream",
     "text": [
      "  Name   = Gravitational constant\n",
      "  Value  = 6.6743e-11\n",
      "  Uncertainty  = 1.5e-15\n",
      "  Unit  = m3 / (kg s2)\n",
      "  Reference = CODATA 2018\n"
     ]
    }
   ],
   "source": [
    "print(const.G)"
   ]
  },
  {
   "cell_type": "code",
   "execution_count": 20,
   "metadata": {},
   "outputs": [
    {
     "name": "stdout",
     "output_type": "stream",
     "text": [
      "4.498502151469554e-06 kpc3 / (solMass Gyr2)\n"
     ]
    }
   ],
   "source": [
    "Grav = const.G.to(u.kpc**3/u.Gyr**2/u.Msun)\n",
    "print(Grav)"
   ]
  },
  {
   "cell_type": "code",
   "execution_count": 22,
   "metadata": {},
   "outputs": [],
   "source": [
    "# Density profile: rho = VLSR^2/4*pi*G*r^2\n",
    "# Mass (r) = Integrate rho dV\n",
    "#.           Integrate rho 4*pi*r^2*dr \n",
    "#.           Integrate VLSR^2 / (4*pi*G*r^2) * 4*pi*r^2*dr \n",
    "#.           Integrate VLSR^2 / G dr\n",
    "#.           VLSR^2/G * r\n",
    "\n",
    "def massIso(r, VLSR): \n",
    "    \"\"\"\n",
    "    This function will compute the dark matter mass enclosed within a given distance r \n",
    "    assuming an isothermal sphere model. \n",
    "    M (r) = VLSR^2/G * r\n",
    "\n",
    "    Inputs: \n",
    "    r (astropy quantity)- distance from galactic center (kpc)\n",
    "    VLSR (astropy quantity)- velocity at the local standard of rest (km/s)\n",
    "\n",
    "    Outputs:\n",
    "    M (astropy quantity)- mass enclosed within r (Msun)\n",
    "    \"\"\"\n",
    "    VLSRkpcGyr = VLSR.to(u.kpc/u.Gyr)   # unit conversions to kpc/Gyr\n",
    "    M = (VLSRkpcGyr**2/Grav) * r        # isothermal sphere mass profile\n",
    "    return M"
   ]
  },
  {
   "cell_type": "code",
   "execution_count": 24,
   "metadata": {},
   "outputs": [
    {
     "name": "stdout",
     "output_type": "stream",
     "text": [
      "105038025820.79904 solMass\n",
      "1.05e+11 solMass\n"
     ]
    }
   ],
   "source": [
    "# Compute the mass enclosed within Ro_Abuter \n",
    "\n",
    "mIsoSolar = massIso(Ro_Abuter, VLSR_Abuter)\n",
    "print(f\"{mIsoSolar:.2e}\")"
   ]
  },
  {
   "cell_type": "code",
   "execution_count": 26,
   "metadata": {},
   "outputs": [
    {
     "name": "stdout",
     "output_type": "stream",
     "text": [
      "3339433445024.1807 solMass\n",
      "3.34e+12 solMass\n"
     ]
    }
   ],
   "source": [
    "# Compute mass enclosed within 260 kpc \n",
    "\n",
    "mIso260 = massIso(260*u.kpc, VLSR_Abuter)\n",
    "print(f\"{mIso260:.2e}\")"
   ]
  },
  {
   "cell_type": "markdown",
   "metadata": {},
   "source": [
    "## c) \n",
    "\n",
    "The Leo I satellite is one of the fastest moving satellite galaxies we know. \n",
    "\n",
    "\n",
    "It is moving with 3D velocity of magnitude: Vtot = 196 km/s at a distance of 260 kpc (Sohn 2013 ApJ 768)\n",
    "\n",
    "If we assume that Leo I is moving at the escape speed:\n",
    "\n",
    "$v_{esc}^2 = 2|\\Phi| = 2 \\int G \\frac{\\rho(r)}{r}dV $ \n",
    "\n",
    "and assuming the Milky Way is well modeled by a Hernquist Sphere with a scale radius of $a$= 30 kpc, what is the minimum mass of the Milky Way (in units of M$_\\odot$) ?  \n",
    "\n",
    "How does this compare to estimates of the mass assuming the Isothermal Sphere model at 260 kpc (from your answer above)"
   ]
  },
  {
   "cell_type": "code",
   "execution_count": 27,
   "metadata": {},
   "outputs": [],
   "source": [
    "# Potential for Hernquist Sphere \n",
    "# Phi = -G*M / (r+a)\n",
    "\n",
    "# Escape Speed: v_esc^2 = 2*G*M/(r+a)\n",
    "\n",
    "# rearrange for M \n",
    "# M = v_esc^2 /2/G(r+a)\n",
    "\n",
    "def massHernVesc(v_esc, r, a = 30*u.kpc): \n",
    "    \"\"\"\n",
    "    This function determines the total dark matter mass needed given an escape speed, \n",
    "    assuming a Hernquist sphere profile. \n",
    "    M = v_esc^2 /2/G(r+a)\n",
    "\n",
    "\n",
    "    Inputs: \n",
    "    v_esc (astropy quantity)- escape speed (km/s)\n",
    "    a (astropy quantity)- Hernquist scale length (kpc) \n",
    "       default value of 30 kpc\n",
    "    r (astropy quantity)- distance from galactic center (kpc)\n",
    "\n",
    "    Outputs: \n",
    "    M (astropy quantity)- mass within r (Msun) \n",
    "    \"\"\"\n",
    "    vesckpcGyr = v_esc.to(u.kpc/u.Gyr)  # unit conversion to kpc/Gyr\n",
    "    M = vesckpcGyr**2/2/Grav*(r+a)\n",
    "    return M"
   ]
  },
  {
   "cell_type": "code",
   "execution_count": 29,
   "metadata": {},
   "outputs": [],
   "source": [
    "VLeoI = 196*u.km/u.s   # Speed of Leo I satellite galaxy- Sohn 2013\n",
    "r = 260*u.kpc"
   ]
  },
  {
   "cell_type": "code",
   "execution_count": 30,
   "metadata": {},
   "outputs": [
    {
     "name": "stdout",
     "output_type": "stream",
     "text": [
      "1.30e+12 solMass\n"
     ]
    }
   ],
   "source": [
    "MLeoI = massHernVesc(VLeoI, r)\n",
    "print(f\"{MLeoI:.2e}\")"
   ]
  },
  {
   "cell_type": "code",
   "execution_count": 31,
   "metadata": {},
   "outputs": [
    {
     "data": {
      "text/latex": [
       "$2.5784204 \\; \\mathrm{}$"
      ],
      "text/plain": [
       "<Quantity 2.57842045>"
      ]
     },
     "execution_count": 31,
     "metadata": {},
     "output_type": "execute_result"
    }
   ],
   "source": [
    "mIso260/MLeoI"
   ]
  },
  {
   "cell_type": "code",
   "execution_count": null,
   "metadata": {},
   "outputs": [],
   "source": []
  }
 ],
 "metadata": {
  "kernelspec": {
   "display_name": "Python 3 (ipykernel)",
   "language": "python",
   "name": "python3"
  },
  "language_info": {
   "codemirror_mode": {
    "name": "ipython",
    "version": 3
   },
   "file_extension": ".py",
   "mimetype": "text/x-python",
   "name": "python",
   "nbconvert_exporter": "python",
   "pygments_lexer": "ipython3",
   "version": "3.11.7"
  }
 },
 "nbformat": 4,
 "nbformat_minor": 4
}
